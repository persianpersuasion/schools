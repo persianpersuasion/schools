{
 "cells": [
  {
   "cell_type": "code",
   "execution_count": 49,
   "id": "954052dd",
   "metadata": {
    "scrolled": true
   },
   "outputs": [
    {
     "name": "stdout",
     "output_type": "stream",
     "text": [
      "Requirement already satisfied: pandas in /Users/mehrisadri/anaconda3/lib/python3.11/site-packages (2.0.3)\n",
      "Requirement already satisfied: folium in /Users/mehrisadri/anaconda3/lib/python3.11/site-packages (0.19.4)\n",
      "Requirement already satisfied: python-dateutil>=2.8.2 in /Users/mehrisadri/anaconda3/lib/python3.11/site-packages (from pandas) (2.8.2)\n",
      "Requirement already satisfied: pytz>=2020.1 in /Users/mehrisadri/anaconda3/lib/python3.11/site-packages (from pandas) (2023.3.post1)\n",
      "Requirement already satisfied: tzdata>=2022.1 in /Users/mehrisadri/anaconda3/lib/python3.11/site-packages (from pandas) (2023.3)\n",
      "Requirement already satisfied: numpy>=1.21.0 in /Users/mehrisadri/anaconda3/lib/python3.11/site-packages (from pandas) (1.24.3)\n",
      "Requirement already satisfied: branca>=0.6.0 in /Users/mehrisadri/anaconda3/lib/python3.11/site-packages (from folium) (0.8.1)\n",
      "Requirement already satisfied: jinja2>=2.9 in /Users/mehrisadri/anaconda3/lib/python3.11/site-packages (from folium) (3.1.2)\n",
      "Requirement already satisfied: requests in /Users/mehrisadri/anaconda3/lib/python3.11/site-packages (from folium) (2.31.0)\n",
      "Requirement already satisfied: xyzservices in /Users/mehrisadri/anaconda3/lib/python3.11/site-packages (from folium) (2022.9.0)\n",
      "Requirement already satisfied: MarkupSafe>=2.0 in /Users/mehrisadri/anaconda3/lib/python3.11/site-packages (from jinja2>=2.9->folium) (2.1.1)\n",
      "Requirement already satisfied: six>=1.5 in /Users/mehrisadri/anaconda3/lib/python3.11/site-packages (from python-dateutil>=2.8.2->pandas) (1.16.0)\n",
      "Requirement already satisfied: charset-normalizer<4,>=2 in /Users/mehrisadri/anaconda3/lib/python3.11/site-packages (from requests->folium) (2.0.4)\n",
      "Requirement already satisfied: idna<4,>=2.5 in /Users/mehrisadri/anaconda3/lib/python3.11/site-packages (from requests->folium) (3.4)\n",
      "Requirement already satisfied: urllib3<3,>=1.21.1 in /Users/mehrisadri/anaconda3/lib/python3.11/site-packages (from requests->folium) (1.26.16)\n",
      "Requirement already satisfied: certifi>=2017.4.17 in /Users/mehrisadri/anaconda3/lib/python3.11/site-packages (from requests->folium) (2023.7.22)\n",
      "Note: you may need to restart the kernel to use updated packages.\n"
     ]
    }
   ],
   "source": [
    "pip install pandas folium"
   ]
  },
  {
   "cell_type": "code",
   "execution_count": 50,
   "id": "ce56b5ae",
   "metadata": {},
   "outputs": [],
   "source": [
    "import pandas as pd\n",
    "import folium"
   ]
  },
  {
   "cell_type": "code",
   "execution_count": 51,
   "id": "69942c13",
   "metadata": {},
   "outputs": [],
   "source": [
    "df = pd.read_csv('(updated) curriculum_contacts - Middle Schools (3).csv')"
   ]
  },
  {
   "cell_type": "code",
   "execution_count": 52,
   "id": "279193e5",
   "metadata": {},
   "outputs": [],
   "source": [
    "def convert_to_float(coord_str):\n",
    "    \n",
    "    if isinstance(coord_str, str):\n",
    "        \n",
    "        coord_str = coord_str.replace('° N', '').replace('° W', '').replace('° S', '').replace('° E', '').strip()\n",
    "        try:\n",
    "            return float(coord_str)\n",
    "        except ValueError:\n",
    "            return None  # Return None if conversion fails\n",
    "    else:\n",
    "        \n",
    "        return coord_str"
   ]
  },
  {
   "cell_type": "code",
   "execution_count": 53,
   "id": "3b8bb7f6",
   "metadata": {},
   "outputs": [],
   "source": [
    "df['Latitude'] = df['Latitude'].apply(convert_to_float)\n",
    "df['Longitude'] = df['Longitude'].apply(convert_to_float)"
   ]
  },
  {
   "cell_type": "code",
   "execution_count": 54,
   "id": "aeb4bc27",
   "metadata": {},
   "outputs": [
    {
     "name": "stdout",
     "output_type": "stream",
     "text": [
      "Series([], Name: School Name, dtype: object)\n"
     ]
    }
   ],
   "source": [
    "# Identify rows with missing (NaN) Latitude or Longitude values\n",
    "missing_coords = df[df['Latitude'].isna() | df['Longitude'].isna()]\n",
    "\n",
    "# Display only the 'School Name' column of those rows with missing coordinates\n",
    "missing_school_names = missing_coords['School Name']\n",
    "\n",
    "# Print the school names with missing coordinates\n",
    "print(missing_school_names)"
   ]
  },
  {
   "cell_type": "code",
   "execution_count": 61,
   "id": "5dc29c82",
   "metadata": {},
   "outputs": [],
   "source": [
    "san_diego_map = folium.Map(location=[32.7157, -117.1611], zoom_start=11)  # Increase zoom level"
   ]
  },
  {
   "cell_type": "code",
   "execution_count": 62,
   "id": "2a3329ff",
   "metadata": {},
   "outputs": [],
   "source": [
    "for _, row in df.iterrows():\n",
    "    if pd.notna(row['Latitude']) and pd.notna(row['Longitude']):\n",
    "        # Check the Relationship Strength Score\n",
    "        if row['Relationship strength score'] >= 4:\n",
    "            # For schools with a score > 5, use a blue pin\n",
    "            folium.Marker(\n",
    "                location=[row['Latitude'], row['Longitude']],\n",
    "                popup=f\"<strong>{row['School Name']}</strong><br>Score: {row['Relationship strength score']}\",\n",
    "                icon=folium.Icon(color='blue', icon='info-sign')\n",
    "            ).add_to(san_diego_map)\n",
    "        else:\n",
    "            # For schools with a score <= 5, you can use a different color or default icon\n",
    "            folium.Marker(\n",
    "                location=[row['Latitude'], row['Longitude']],\n",
    "                popup=f\"<strong>{row['School Name']}</strong><br>Score: {row['Relationship strength score']}\",\n",
    "                icon=folium.Icon(color='gray', icon='info-sign')\n",
    "            ).add_to(san_diego_map)\n"
   ]
  },
  {
   "cell_type": "code",
   "execution_count": 60,
   "id": "af6b7d31",
   "metadata": {},
   "outputs": [],
   "source": [
    "san_diego_map.save('san_diego_middle_schools_map_with_pins.html')"
   ]
  },
  {
   "cell_type": "code",
   "execution_count": null,
   "id": "fc97858d",
   "metadata": {},
   "outputs": [],
   "source": []
  },
  {
   "cell_type": "code",
   "execution_count": null,
   "id": "9fa010a8",
   "metadata": {},
   "outputs": [],
   "source": []
  }
 ],
 "metadata": {
  "kernelspec": {
   "display_name": "Python 3 (ipykernel)",
   "language": "python",
   "name": "python3"
  },
  "language_info": {
   "codemirror_mode": {
    "name": "ipython",
    "version": 3
   },
   "file_extension": ".py",
   "mimetype": "text/x-python",
   "name": "python",
   "nbconvert_exporter": "python",
   "pygments_lexer": "ipython3",
   "version": "3.11.5"
  }
 },
 "nbformat": 4,
 "nbformat_minor": 5
}
